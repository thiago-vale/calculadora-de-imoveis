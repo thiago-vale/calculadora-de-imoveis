{
 "cells": [
  {
   "cell_type": "code",
   "execution_count": 4,
   "metadata": {},
   "outputs": [
    {
     "data": {
      "text/plain": [
       "Index(['Unnamed: 0', 'id', 'url', 'header', 'address', 'amenities', 'crawler',\n",
       "       'crawled_at', 'Quarto', 'Banheiro', 'Garagem', 'condominio', 'preço',\n",
       "       'area_limpo', 'Guarita blindada', 'Vista exterior', 'Arvorismo',\n",
       "       'Bicicletário', 'Perto de vias de acesso', 'Piso frio',\n",
       "       'Armário na cozinha', 'Quadra de squash', 'Cabeamento estruturado',\n",
       "       'Quadra de tênis', 'Portão eletrônico', 'Janela grande',\n",
       "       'Perto de transporte público', 'Espaço fitness', 'Academia', 'Recepção',\n",
       "       'Área de lazer', 'Armário embutido', 'Serviços públicos essenciais',\n",
       "       'Espaço gourmet', 'Sala de almoço', 'Piscina', 'TV a cabo',\n",
       "       'Móvel planejado', 'Quadra poliesportiva', 'Mais de um andar', 'Spa',\n",
       "       'Aceita animais', 'Sala de massagem', 'Perto de shopping',\n",
       "       'Portaria 24h', 'Espaço Pet', 'Copa', 'Pé direito alto', 'Cozinha',\n",
       "       'Segurança 24h', 'Cozinha grande', 'Espaço verde / Parque',\n",
       "       'Acesso para deficientes', 'Dependência de empregados',\n",
       "       'Piso de madeira', 'Lavanderia', 'Piscina infantil', 'Elevador',\n",
       "       'Vista para o mar', 'Churrasqueira na varanda', 'Armário no banheiro',\n",
       "       'Cinema', 'Escritório', 'Varanda', 'Playground', 'Perto de escolas',\n",
       "       'Sauna', 'Perto de hospitais', 'Vigia', 'Porcelanato',\n",
       "       'Gerador elétrico', 'Banheira', 'Piscina para adulto',\n",
       "       'Circuito de segurança', 'Box blindex', 'Ar-condicionado',\n",
       "       'Churrasqueira', 'Área de serviço', 'Banheiro de serviço', 'Depósito',\n",
       "       'Lareira', 'Jardim', 'Salão de jogos', 'Conexão à internet',\n",
       "       'Condomínio fechado', 'Sistema de alarme', 'Sala de jantar',\n",
       "       'Armário embutido no quarto', 'Closet', 'Aquecimento', 'Quintal',\n",
       "       'Salão de festas', 'Varanda gourmet', 'Guarita', 'Interfone',\n",
       "       'Varanda fechada com vidro', '...', 'Próximo a shopping', 'Mobiliado'],\n",
       "      dtype='object')"
      ]
     },
     "execution_count": 4,
     "metadata": {},
     "output_type": "execute_result"
    }
   ],
   "source": [
    "import pandas as pd\n",
    "from utils.clean import Clean\n",
    "\n",
    "clean = Clean()\n",
    "\n",
    "\n",
    "# Extract\n",
    "\n",
    "df = pd.read_csv('./data/raw/imoveis.csv')\n",
    "\n",
    "df.columns"
   ]
  },
  {
   "cell_type": "code",
   "execution_count": null,
   "metadata": {},
   "outputs": [],
   "source": [
    "# Transform\n",
    "def cleancode(df):\n",
    "    df = df.drop_duplicates(keep=\"first\", subset=[coluna for coluna in df.columns if coluna!=\"crawled_at\"]).reset_index(drop=True)\n",
    "    filtro_de_anuncios = [str(_id).isnumeric() for _id in df[\"id\"]]\n",
    "    df = df[filtro_de_anuncios].reset_index(drop=True)\n",
    "    df[\"rooms\"].str.split(\" \").str[0].str.replace(\"--\" , \"0\")\n",
    "    df[\"Quarto\"] = (df[\"rooms\"].str.split(\" \").str[0].str.replace(\"--\",\"0\").astype(int))\n",
    "    df[\"Banheiro\"] = (df[\"bathrooms\"].str.split(\" \").str[0].str.replace(\"--\",\"0\").astype(int))\n",
    "    df[\"Garagem\"] = (df[\"garages\"].str.split(\" \").str[0].str.replace(\"--\",\"0\").astype(int))\n",
    "    df[\"condo\"] = df[\"condo\"].fillna(\"MISSING\")\n",
    "    df[\"condominio\"] = [int(w.split(\"R$ \")[1].replace(\".\",\"\")) if w!=\"MISSING\" else np.nan for w in df[\"condo\"]]\n",
    "    df[\"preço\"] = [int(w.split(\"R$ \")[1].split(\" /\")[0].split(\"\\n\")[0].replace(\".\",\"\")) for w in df[\"price\"]]\n",
    "    df[\"area_limpo\"] = df[\"area\"].astype(int)\n",
    "    df[\"crawled_at\"] = pd.to_datetime(df[\"crawled_at\"], format=\"%Y-%m-%d %H:%M\")\n",
    "    df = df.drop(columns = [\"area\", \"rooms\", \"bathrooms\", \"garages\", \"price\", \"condo\"])\n",
    "    df[\"bairro\"] = (df[\"address\"].str.split(\"- \").str[1].str.split(\",\").str[0])\n",
    "    df.loc[df[\"bairro\"].isin([\"RJ\"]), \"bairro\"] = (df.loc[df[\"bairro\"].isin([\"RJ\"]), \"address\"].str.split(\",\").str[0])\n",
    "    df.loc[df[\"crawler\"]!=df[\"bairro\"],\"bairro\"].unique()\n",
    "    df[\"crawler\"] = (df[\"crawler\"].str.lower().str.replace(\" \",\"_\"))\n",
    "    df[\"bairro\"] = (df[\"bairro\"].str.lower().str.replace(\" \",\"_\").str.normalize(\"NFKD\").str.encode(\"ascii\", errors=\"ignore\").str.decode(\"utf-8\"))\n",
    "    df = df.drop(columns=\"bairro\")\n",
    "    df[\"amenities\"] = df[\"amenities\"].str.split(\"\\n\")\n",
    "    df[\"amenities\"] = df[\"amenities\"].fillna(\"\")\n",
    "    amenities = []\n",
    "    for am in df[\"amenities\"]:\n",
    "        if am != \"\":\n",
    "            amenities = amenities + am\n",
    "    unico_amenities = list(set(amenities))\n",
    "    df[\"amenities\"] = df[\"amenities\"].str.join(\", \")\n",
    "    for amenity in unico_amenities:\n",
    "        print(amenity)\n",
    "        df[amenity]=0\n",
    "        df.loc[df[\"amenities\"].str.contains(amenity), amenity] = 1\n",
    "    return df\n",
    "cleancode(df)\n",
    "\n",
    "coluna = \"Preço\"\n",
    "df = clean.remove_outliers_bairro(df,coluna,0.20)\n",
    "\n",
    "coluna = \"condominio\"\n",
    "df = clean.remove_outliers_bairro(df,coluna,0.20)\n",
    "\n",
    "# Load\n",
    "df.to_csv('./data/trusted/imoveis.csv')"
   ]
  },
  {
   "cell_type": "code",
   "execution_count": null,
   "metadata": {},
   "outputs": [],
   "source": []
  }
 ],
 "metadata": {
  "kernelspec": {
   "display_name": "Python 3",
   "language": "python",
   "name": "python3"
  },
  "language_info": {
   "codemirror_mode": {
    "name": "ipython",
    "version": 3
   },
   "file_extension": ".py",
   "mimetype": "text/x-python",
   "name": "python",
   "nbconvert_exporter": "python",
   "pygments_lexer": "ipython3",
   "version": "3.10.6"
  },
  "orig_nbformat": 4
 },
 "nbformat": 4,
 "nbformat_minor": 2
}
