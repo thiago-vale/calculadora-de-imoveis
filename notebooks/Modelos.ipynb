{
 "cells": [
  {
   "cell_type": "markdown",
   "metadata": {},
   "source": [
    "## Treinando Modelos"
   ]
  },
  {
   "cell_type": "code",
   "execution_count": 1,
   "metadata": {},
   "outputs": [],
   "source": [
    "import pandas as pd\n",
    "import matplotlib.pyplot as plt\n",
    "import numpy as np\n",
    "import seaborn as sns\n",
    "import pickle\n",
    "from sklearn.linear_model import LinearRegression, Ridge\n",
    "from sklearn.model_selection import train_test_split, GridSearchCV\n",
    "from sklearn.metrics import r2_score, mean_squared_error,mean_absolute_error,mean_absolute_percentage_error\n",
    "from sklearn.neighbors import KNeighborsRegressor\n",
    "from sklearn.preprocessing import MinMaxScaler, StandardScaler\n",
    "from sklearn.tree import DecisionTreeRegressor, ExtraTreeRegressor\n",
    "from sklearn.ensemble import RandomForestRegressor\n",
    "from xgboost import XGBRegressor\n",
    "from catboost import CatBoostRegressor\n",
    "from sklearn.pipeline import Pipeline"
   ]
  },
  {
   "cell_type": "markdown",
   "metadata": {},
   "source": [
    "### Pegando os dados da camada Refined"
   ]
  },
  {
   "cell_type": "code",
   "execution_count": 2,
   "metadata": {},
   "outputs": [
    {
     "data": {
      "text/plain": [
       "liberdade     1078\n",
       "saúde         1077\n",
       "bela_vista    1075\n",
       "ipiranga      1069\n",
       "brooklin      1012\n",
       "broklin       1012\n",
       "Name: crawler, dtype: int64"
      ]
     },
     "execution_count": 2,
     "metadata": {},
     "output_type": "execute_result"
    }
   ],
   "source": [
    "df = pd.read_csv('../data/refined/imoveis.csv')\n",
    "df['crawler'].value_counts()"
   ]
  },
  {
   "cell_type": "markdown",
   "metadata": {},
   "source": [
    "### Separando os dados com maior correlação positiva ou negativa e a variavel alvo"
   ]
  },
  {
   "cell_type": "code",
   "execution_count": 3,
   "metadata": {},
   "outputs": [
    {
     "name": "stdout",
     "output_type": "stream",
     "text": [
      "<class 'pandas.core.frame.DataFrame'>\n",
      "RangeIndex: 6323 entries, 0 to 6322\n",
      "Data columns (total 5 columns):\n",
      " #   Column      Non-Null Count  Dtype  \n",
      "---  ------      --------------  -----  \n",
      " 0   area_limpo  6323 non-null   int64  \n",
      " 1   Banheiro    6323 non-null   int64  \n",
      " 2   Quarto      6323 non-null   int64  \n",
      " 3   condominio  6063 non-null   float64\n",
      " 4   preço       6323 non-null   int64  \n",
      "dtypes: float64(1), int64(4)\n",
      "memory usage: 247.1 KB\n"
     ]
    }
   ],
   "source": [
    "df[[\"area_limpo\", \"Banheiro\", \"Quarto\", \"condominio\",\"preço\"]].info()"
   ]
  },
  {
   "cell_type": "code",
   "execution_count": 4,
   "metadata": {},
   "outputs": [],
   "source": [
    "# Substituir valores nulos por 0 no DataFrame df\n",
    "df.fillna(0, inplace=True)"
   ]
  },
  {
   "cell_type": "code",
   "execution_count": 5,
   "metadata": {},
   "outputs": [],
   "source": [
    "x = X = df[[\"area_limpo\", \"Banheiro\", \"Quarto\", \"condominio\"]]\n",
    "y = df[\"preço\"]"
   ]
  },
  {
   "cell_type": "markdown",
   "metadata": {},
   "source": [
    "### Separando dados de Treino e teste"
   ]
  },
  {
   "cell_type": "code",
   "execution_count": 6,
   "metadata": {},
   "outputs": [],
   "source": [
    "x_train, x_test, y_train, y_test = train_test_split(X, y, test_size=.20, random_state=42, shuffle=True)"
   ]
  },
  {
   "cell_type": "code",
   "execution_count": 7,
   "metadata": {},
   "outputs": [
    {
     "data": {
      "text/plain": [
       "(6323, 4)"
      ]
     },
     "execution_count": 7,
     "metadata": {},
     "output_type": "execute_result"
    }
   ],
   "source": [
    "X.shape"
   ]
  },
  {
   "cell_type": "code",
   "execution_count": 8,
   "metadata": {},
   "outputs": [
    {
     "data": {
      "text/plain": [
       "(1265, 4)"
      ]
     },
     "execution_count": 8,
     "metadata": {},
     "output_type": "execute_result"
    }
   ],
   "source": [
    "x_test.shape"
   ]
  },
  {
   "cell_type": "code",
   "execution_count": 9,
   "metadata": {},
   "outputs": [
    {
     "data": {
      "text/plain": [
       "4567    1500000\n",
       "5842    3500000\n",
       "5113     604000\n",
       "3333     890000\n",
       "3382     949000\n",
       "         ...   \n",
       "3772     780000\n",
       "5191    1000000\n",
       "5226    1200000\n",
       "5390    1040500\n",
       "860     1059980\n",
       "Name: preço, Length: 5058, dtype: int64"
      ]
     },
     "execution_count": 9,
     "metadata": {},
     "output_type": "execute_result"
    }
   ],
   "source": [
    "y_train"
   ]
  },
  {
   "cell_type": "markdown",
   "metadata": {},
   "source": [
    "### Iniciando treinamento do Modelo"
   ]
  },
  {
   "cell_type": "markdown",
   "metadata": {},
   "source": [
    "#### Modelo de regressão linear simples"
   ]
  },
  {
   "cell_type": "code",
   "execution_count": 10,
   "metadata": {},
   "outputs": [],
   "source": [
    "#fit_intercept Ele controla se o modelo de regressão linear deve calcular ou não o intercepto (também conhecido como viés ou coeficiente linear)\n",
    "linear1 = LinearRegression(fit_intercept=True)\n",
    "linear2 = LinearRegression(fit_intercept=False)"
   ]
  },
  {
   "cell_type": "code",
   "execution_count": 11,
   "metadata": {},
   "outputs": [
    {
     "data": {
      "text/plain": [
       "LinearRegression(fit_intercept=False)"
      ]
     },
     "execution_count": 11,
     "metadata": {},
     "output_type": "execute_result"
    }
   ],
   "source": [
    "linear1.fit(x_train,y_train)\n",
    "linear2.fit(x_train,y_train)"
   ]
  },
  {
   "cell_type": "code",
   "execution_count": 12,
   "metadata": {},
   "outputs": [],
   "source": [
    "y_pred_train1 = linear1.predict(x_train)\n",
    "y_pred_test1 = linear1.predict(x_test)\n",
    "y_pred_train2 = linear2.predict(x_train)\n",
    "y_pred_test2 = linear2.predict(x_test)"
   ]
  },
  {
   "cell_type": "markdown",
   "metadata": {},
   "source": [
    "Calculando o MAPE (Mean Absolute Percentage Error)"
   ]
  },
  {
   "cell_type": "code",
   "execution_count": 13,
   "metadata": {},
   "outputs": [
    {
     "name": "stdout",
     "output_type": "stream",
     "text": [
      "\n",
      "Mape Train:\n",
      "0.31305991721100956 , 0.3272471980359713\n",
      "Mape Teste:\n",
      "0.3090014711185113 , 0.3207849469867356\n",
      "\n"
     ]
    }
   ],
   "source": [
    "print(f'''\n",
    "Mape Train:\n",
    "{np.mean(np.abs(y_train - y_pred_train1)/y_train)} , {np.mean(np.abs(y_train - y_pred_train2)/y_train)}\n",
    "Mape Teste:\n",
    "{np.mean(np.abs(y_test - y_pred_test1)/y_test)} , {np.mean(np.abs(y_test - y_pred_test2)/y_test)}\n",
    "''')"
   ]
  },
  {
   "cell_type": "markdown",
   "metadata": {},
   "source": [
    "Calculando o MSE (Mean Squared Error)"
   ]
  },
  {
   "cell_type": "code",
   "execution_count": 14,
   "metadata": {},
   "outputs": [
    {
     "data": {
      "text/plain": [
       "174658132962.8032"
      ]
     },
     "execution_count": 14,
     "metadata": {},
     "output_type": "execute_result"
    }
   ],
   "source": [
    "mean_squared_error(y_test, y_pred_test1)"
   ]
  },
  {
   "cell_type": "code",
   "execution_count": 15,
   "metadata": {},
   "outputs": [
    {
     "data": {
      "text/plain": [
       "175790169283.3162"
      ]
     },
     "execution_count": 15,
     "metadata": {},
     "output_type": "execute_result"
    }
   ],
   "source": [
    "mean_squared_error(y_test, y_pred_test2)"
   ]
  },
  {
   "cell_type": "markdown",
   "metadata": {},
   "source": [
    "Calulando o R²"
   ]
  },
  {
   "cell_type": "code",
   "execution_count": 16,
   "metadata": {},
   "outputs": [
    {
     "data": {
      "text/plain": [
       "0.7424004437105677"
      ]
     },
     "execution_count": 16,
     "metadata": {},
     "output_type": "execute_result"
    }
   ],
   "source": [
    "r2_linear1 = r2_score(y_test, y_pred_test1)\n",
    "r2_score(y_test, y_pred_test1)"
   ]
  },
  {
   "cell_type": "code",
   "execution_count": 17,
   "metadata": {},
   "outputs": [
    {
     "data": {
      "text/plain": [
       "0.7407308274784408"
      ]
     },
     "execution_count": 17,
     "metadata": {},
     "output_type": "execute_result"
    }
   ],
   "source": [
    "r2_linear1 = r2_score(y_test, y_pred_test2)\n",
    "r2_score(y_test, y_pred_test2)"
   ]
  },
  {
   "cell_type": "markdown",
   "metadata": {},
   "source": [
    "## Treinando outros modelos"
   ]
  },
  {
   "cell_type": "markdown",
   "metadata": {},
   "source": [
    "Treinamento"
   ]
  },
  {
   "cell_type": "code",
   "execution_count": 18,
   "metadata": {},
   "outputs": [
    {
     "name": "stdout",
     "output_type": "stream",
     "text": [
      "R-squared for Ridge: 0.7424\n",
      "Mean Squared Error for Ridge: 174656232781.6121\n",
      "Mean Absolute Error for Ridge: 286079.4087\n",
      "Mena Absolute Percentage Error Ridge: 0.31\n",
      "\n",
      "R-squared for KNeighborsRegressor: 0.7234\n",
      "Mean Squared Error for KNeighborsRegressor: 187541172495.0801\n",
      "Mean Absolute Error for KNeighborsRegressor: 257811.7477\n",
      "Mena Absolute Percentage Error KNeighborsRegressor: 0.27\n",
      "\n",
      "R-squared for DecisionTreeRegressor: 0.7717\n",
      "Mean Squared Error for DecisionTreeRegressor: 154763050787.1259\n",
      "Mean Absolute Error for DecisionTreeRegressor: 195837.9878\n",
      "Mena Absolute Percentage Error DecisionTreeRegressor: 0.21\n",
      "\n",
      "R-squared for ExtraTreeRegressor: 0.8025\n",
      "Mean Squared Error for ExtraTreeRegressor: 133883825087.5450\n",
      "Mean Absolute Error for ExtraTreeRegressor: 188153.7517\n",
      "Mena Absolute Percentage Error ExtraTreeRegressor: 0.21\n",
      "\n"
     ]
    },
    {
     "name": "stdout",
     "output_type": "stream",
     "text": [
      "R-squared for RandomForestRegressor: 0.8306\n",
      "Mean Squared Error for RandomForestRegressor: 114851913807.2769\n",
      "Mean Absolute Error for RandomForestRegressor: 186373.2914\n",
      "Mena Absolute Percentage Error RandomForestRegressor: 0.20\n",
      "\n",
      "R-squared for XGBRegressor: 0.8372\n",
      "Mean Squared Error for XGBRegressor: 110402999942.3990\n",
      "Mean Absolute Error for XGBRegressor: 197373.7704\n",
      "Mena Absolute Percentage Error XGBRegressor: 0.22\n",
      "\n",
      "R-squared for CatBoostRegressor: 0.8202\n",
      "Mean Squared Error for CatBoostRegressor: 121909025927.5424\n",
      "Mean Absolute Error for CatBoostRegressor: 217304.9230\n",
      "Mena Absolute Percentage Error CatBoostRegressor: 0.23\n",
      "\n"
     ]
    }
   ],
   "source": [
    "models = {\n",
    "    'Ridge': Ridge(),\n",
    "    'KNeighborsRegressor': KNeighborsRegressor(),\n",
    "    'DecisionTreeRegressor': DecisionTreeRegressor(),\n",
    "    'ExtraTreeRegressor': ExtraTreeRegressor(),\n",
    "    'RandomForestRegressor': RandomForestRegressor(),\n",
    "    'XGBRegressor': XGBRegressor(),\n",
    "    'CatBoostRegressor': CatBoostRegressor(verbose=False)\n",
    "}\n",
    "\n",
    "for model_name, model_instance in models.items():\n",
    "    # Treine o modelo\n",
    "    model_instance.fit(x_train, y_train)\n",
    "    \n",
    "    # Faça previsões\n",
    "    y_pred = model_instance.predict(x_test)\n",
    "    \n",
    "    r2 = r2_score(y_test, y_pred)\n",
    "    mse = mean_squared_error(y_test, y_pred)\n",
    "    mae = mean_absolute_error(y_test, y_pred)\n",
    "    mape = mean_absolute_percentage_error(y_test, y_pred)\n",
    "    print(f'R-squared for {model_name}: {r2:.4f}')\n",
    "    print(f'Mean Squared Error for {model_name}: {mse:.4f}')\n",
    "    print(f'Mean Absolute Error for {model_name}: {mae:.4f}')\n",
    "    print(f'Mena Absolute Percentage Error {model_name}: {mape:.2f}\\n')"
   ]
  },
  {
   "cell_type": "code",
   "execution_count": 29,
   "metadata": {},
   "outputs": [
    {
     "name": "stdout",
     "output_type": "stream",
     "text": [
      "Best Parameters for Linear Regression:\n",
      "{}\n",
      "Best Mean Squared Error for Linear Regression: 213424474001.6755\n",
      "R-squared for Linear Regression: 0.74\n",
      "Mean Squared Error for Linear Regression: 174658132962.81\n",
      "Mean Absolute Error for Linear Regression: 286083.63\n",
      "Mena Absolute Percentage Error Linear Regression: 0.31\n",
      "\n",
      "Best Parameters for Ridge Regression:\n",
      "{'ridge_reg__alpha': 0.1}\n",
      "Best Mean Squared Error for Ridge Regression: 213142389685.0551\n",
      "R-squared for Ridge Regression: 0.74\n",
      "Mean Squared Error for Ridge Regression: 175272974300.11\n",
      "Mean Absolute Error for Ridge Regression: 286565.89\n",
      "Mena Absolute Percentage Error Ridge Regression: 0.31\n",
      "\n",
      "Best Parameters for KNeighborsRegressor:\n",
      "{'knn__n_neighbors': 7, 'knn__weights': 'distance'}\n",
      "Best Mean Squared Error for KNeighborsRegressor: 111306960797.7127\n",
      "R-squared for KNeighborsRegressor: 0.82\n",
      "Mean Squared Error for KNeighborsRegressor: 123246670310.29\n",
      "Mean Absolute Error for KNeighborsRegressor: 177415.84\n",
      "Mena Absolute Percentage Error KNeighborsRegressor: 0.19\n",
      "\n",
      "Best Parameters for Decision Tree:\n",
      "{'decision_tree__max_depth': 10, 'decision_tree__min_samples_split': 5}\n",
      "Best Mean Squared Error for Decision Tree: 146372461442.1781\n",
      "R-squared for Decision Tree: 0.78\n",
      "Mean Squared Error for Decision Tree: 151594316906.88\n",
      "Mean Absolute Error for Decision Tree: 233360.05\n",
      "Mena Absolute Percentage Error Decision Tree: 0.25\n",
      "\n",
      "Best Parameters for Extra Tree:\n",
      "{'extra_tree__max_depth': None, 'extra_tree__min_samples_split': 5}\n",
      "Best Mean Squared Error for Extra Tree: 153420901621.5346\n",
      "R-squared for Extra Tree: 0.78\n",
      "Mean Squared Error for Extra Tree: 151855043298.02\n",
      "Mean Absolute Error for Extra Tree: 217620.05\n",
      "Mena Absolute Percentage Error Extra Tree: 0.23\n",
      "\n",
      "Best Parameters for Random Forest:\n",
      "{'random_forest__max_depth': None, 'random_forest__min_samples_split': 2, 'random_forest__n_estimators': 200}\n",
      "Best Mean Squared Error for Random Forest: 101680482698.1546\n",
      "R-squared for Random Forest: 0.83\n",
      "Mean Squared Error for Random Forest: 113283773532.64\n",
      "Mean Absolute Error for Random Forest: 185217.47\n",
      "Mena Absolute Percentage Error Random Forest: 0.20\n",
      "\n",
      "Best Parameters for XGBoost:\n",
      "{'xgboost__learning_rate': 0.1, 'xgboost__max_depth': 7, 'xgboost__n_estimators': 200}\n",
      "Best Mean Squared Error for XGBoost: 106080349612.0041\n",
      "R-squared for XGBoost: 0.84\n",
      "Mean Squared Error for XGBoost: 109809459322.64\n",
      "Mean Absolute Error for XGBoost: 195558.22\n",
      "Mena Absolute Percentage Error XGBoost: 0.21\n",
      "\n",
      "Best Parameters for CatBoost:\n",
      "{'catboost__depth': 10, 'catboost__learning_rate': 0.2, 'catboost__n_estimators': 200}\n",
      "Best Mean Squared Error for CatBoost: 111133191199.5047\n",
      "R-squared for CatBoost: 0.83\n",
      "Mean Squared Error for CatBoost: 117449743095.73\n",
      "Mean Absolute Error for CatBoost: 208186.06\n",
      "Mena Absolute Percentage Error CatBoost: 0.22\n",
      "\n"
     ]
    }
   ],
   "source": [
    "linear_reg_pipeline = Pipeline([\n",
    "    ('scaler', MinMaxScaler()),  # Aplica o MinMaxScaler\n",
    "    ('linear_reg', LinearRegression())  # Modelo de regressão linear\n",
    "])\n",
    "\n",
    "ridge_reg_pipeline = Pipeline([\n",
    "    ('scaler', MinMaxScaler()),  # Aplica o MinMaxScaler\n",
    "    ('ridge_reg', Ridge())  # Modelo de regressão Ridge\n",
    "])\n",
    "\n",
    "knn_pipeline = Pipeline([ \n",
    "    ('scaler', MinMaxScaler()),  # Aplica o MinMaxScaler\n",
    "    ('knn', KNeighborsRegressor())  # Modelo K-Nearest Neighbors\n",
    "])\n",
    "\n",
    "decision_tree = Pipeline([\n",
    "    ('scaler', MinMaxScaler()),  # Aplica o MinMaxScaler\n",
    "    ('decision_tree', DecisionTreeRegressor())  # Modelo Decision Tree\n",
    "])\n",
    "\n",
    "extra_tree = Pipeline([\n",
    "    ('scaler', MinMaxScaler()),  # Aplica o MinMaxScaler\n",
    "    ('extra_tree', ExtraTreeRegressor())  # Modelo Extra Tree\n",
    "])\n",
    "\n",
    "random_forest = Pipeline([\n",
    "    ('scaler', MinMaxScaler()),  # Aplica o MinMaxScaler\n",
    "    ('random_forest', RandomForestRegressor())  # Modelo Random Forest\n",
    "])\n",
    "\n",
    "xgboost = Pipeline([\n",
    "    ('scaler', MinMaxScaler()),  # Aplica o MinMaxScaler\n",
    "    ('xgboost', XGBRegressor())  # Modelo XGBoost\n",
    "])\n",
    "\n",
    "catboost = Pipeline([\n",
    "    ('scaler', MinMaxScaler()),  # Aplica o MinMaxScaler\n",
    "    ('catboost', CatBoostRegressor(verbose=False))  # Modelo CatBoost\n",
    "])\n",
    "\n",
    "param_grid_linear_reg = {\n",
    "}\n",
    "    \n",
    "param_grid_ridge_reg = {\n",
    "    'ridge_reg__alpha': [0.1, 1.0, 10.0]\n",
    "}\n",
    "\n",
    "param_grid_knn = {\n",
    "    'knn__n_neighbors': [3, 5, 7],\n",
    "    'knn__weights': ['uniform', 'distance']\n",
    "}\n",
    "\n",
    "# Dicionários de hiperparâmetros para modelos adicionais\n",
    "param_grid_decision_tree = {\n",
    "    'decision_tree__max_depth': [None, 10, 20],\n",
    "    'decision_tree__min_samples_split': [2, 5, 10]\n",
    "}\n",
    "\n",
    "param_grid_extra_tree = {\n",
    "    'extra_tree__max_depth': [None, 10, 20],\n",
    "    'extra_tree__min_samples_split': [2, 5, 10]\n",
    "}\n",
    "\n",
    "param_grid_random_forest = {\n",
    "    'random_forest__n_estimators': [50, 100, 200],\n",
    "    'random_forest__max_depth': [None, 10, 20],\n",
    "    'random_forest__min_samples_split': [2, 5, 10]\n",
    "}\n",
    "\n",
    "param_grid_xgboost = {\n",
    "    'xgboost__n_estimators': [50, 100, 200],\n",
    "    'xgboost__max_depth': [3, 5, 7],\n",
    "    'xgboost__learning_rate': [0.01, 0.1, 0.2]\n",
    "}\n",
    "\n",
    "param_grid_catboost = {\n",
    "    'catboost__n_estimators': [50, 100, 200],\n",
    "    'catboost__depth': [6, 8, 10],\n",
    "    'catboost__learning_rate': [0.01, 0.1, 0.2]\n",
    "}\n",
    "\n",
    "# Adicione mais modelos e dicionários de hiperparâmetros conforme necessário\n",
    "\n",
    "models_and_params = [\n",
    "    ('Linear Regression', linear_reg_pipeline, param_grid_linear_reg),\n",
    "    ('Ridge Regression', ridge_reg_pipeline, param_grid_ridge_reg),\n",
    "    ('KNeighborsRegressor', knn_pipeline, param_grid_knn),\n",
    "    ('Decision Tree', decision_tree, param_grid_decision_tree),\n",
    "    ('Extra Tree', extra_tree, param_grid_extra_tree),\n",
    "    ('Random Forest', random_forest, param_grid_random_forest),\n",
    "    ('XGBoost', xgboost, param_grid_xgboost),\n",
    "    ('CatBoost', catboost, param_grid_catboost)\n",
    "]\n",
    "\n",
    "# Use GridSearchCV para otimizar os modelos\n",
    "for model_name, model, param_grid in models_and_params:\n",
    "    grid_search = GridSearchCV(model, param_grid, cv=5, scoring='neg_mean_squared_error', n_jobs=-1)\n",
    "    grid_search.fit(x_train, y_train)\n",
    "\n",
    "    # Exiba os melhores hiperparâmetros e métricas de desempenho\n",
    "    print(f\"Best Parameters for {model_name}:\")\n",
    "    print(grid_search.best_params_)\n",
    "    print(f\"Best Mean Squared Error for {model_name}: {abs(grid_search.best_score_):.2f}\")\n",
    "    \n",
    "    # Avalie o modelo otimizado no conjunto de teste\n",
    "    y_pred = grid_search.best_estimator_.predict(x_test)\n",
    "    r2 = r2_score(y_test, y_pred)\n",
    "    mse = mean_squared_error(y_test, y_pred)\n",
    "    mae = mean_absolute_error(y_test, y_pred)\n",
    "    mape = mean_absolute_percentage_error(y_test, y_pred)\n",
    "    print(f'R-squared for {model_name}: {r2:.2f}')\n",
    "    print(f'Mean Squared Error for {model_name}: {mse:.2f}')\n",
    "    print(f'Mean Absolute Error for {model_name}: {mae:.2f}')\n",
    "    print(f'Mena Absolute Percentage Error {model_name}: {mape:.2f}\\n')"
   ]
  },
  {
   "cell_type": "code",
   "execution_count": null,
   "metadata": {},
   "outputs": [],
   "source": []
  }
 ],
 "metadata": {
  "kernelspec": {
   "display_name": "Python 3",
   "language": "python",
   "name": "python3"
  },
  "language_info": {
   "codemirror_mode": {
    "name": "ipython",
    "version": 3
   },
   "file_extension": ".py",
   "mimetype": "text/x-python",
   "name": "python",
   "nbconvert_exporter": "python",
   "pygments_lexer": "ipython3",
   "version": "3.10.12"
  },
  "orig_nbformat": 4
 },
 "nbformat": 4,
 "nbformat_minor": 2
}
