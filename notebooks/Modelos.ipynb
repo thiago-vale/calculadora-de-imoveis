{
 "cells": [
  {
   "cell_type": "markdown",
   "metadata": {},
   "source": [
    "## Treinando Modelos"
   ]
  },
  {
   "cell_type": "code",
   "execution_count": 1,
   "metadata": {},
   "outputs": [],
   "source": [
    "import pandas as pd\n",
    "import matplotlib.pyplot as plt\n",
    "import numpy as np\n",
    "import seaborn as sns\n",
    "import pickle\n",
    "import joblib\n",
    "from sklearn.linear_model import LinearRegression, Ridge\n",
    "from sklearn.model_selection import train_test_split, GridSearchCV\n",
    "from sklearn.metrics import r2_score, mean_squared_error,mean_absolute_error,mean_absolute_percentage_error\n",
    "from sklearn.neighbors import KNeighborsRegressor\n",
    "from sklearn.preprocessing import MinMaxScaler, StandardScaler, LabelEncoder\n",
    "from sklearn.tree import DecisionTreeRegressor, ExtraTreeRegressor\n",
    "from sklearn.ensemble import RandomForestRegressor\n",
    "from xgboost import XGBRegressor\n",
    "from catboost import CatBoostRegressor\n",
    "from sklearn.pipeline import Pipeline"
   ]
  },
  {
   "cell_type": "markdown",
   "metadata": {},
   "source": [
    "### Pegando os dados da camada Refined"
   ]
  },
  {
   "cell_type": "code",
   "execution_count": 2,
   "metadata": {},
   "outputs": [
    {
     "data": {
      "text/plain": [
       "liberdade     1078\n",
       "saúde         1077\n",
       "bela_vista    1075\n",
       "ipiranga      1069\n",
       "brooklin      1012\n",
       "broklin       1012\n",
       "Name: crawler, dtype: int64"
      ]
     },
     "execution_count": 2,
     "metadata": {},
     "output_type": "execute_result"
    }
   ],
   "source": [
    "df = pd.read_csv('../data/refined/imoveis.csv')\n",
    "df['crawler'].value_counts()"
   ]
  },
  {
   "cell_type": "markdown",
   "metadata": {},
   "source": [
    "### Separando os dados com maior correlação positiva ou negativa e a variavel alvo"
   ]
  },
  {
   "cell_type": "code",
   "execution_count": 3,
   "metadata": {},
   "outputs": [
    {
     "name": "stdout",
     "output_type": "stream",
     "text": [
      "<class 'pandas.core.frame.DataFrame'>\n",
      "RangeIndex: 6323 entries, 0 to 6322\n",
      "Data columns (total 6 columns):\n",
      " #   Column      Non-Null Count  Dtype  \n",
      "---  ------      --------------  -----  \n",
      " 0   crawler     6323 non-null   object \n",
      " 1   area_limpo  6323 non-null   int64  \n",
      " 2   Banheiro    6323 non-null   int64  \n",
      " 3   Quarto      6323 non-null   int64  \n",
      " 4   condominio  6063 non-null   float64\n",
      " 5   preço       6323 non-null   int64  \n",
      "dtypes: float64(1), int64(4), object(1)\n",
      "memory usage: 296.5+ KB\n"
     ]
    }
   ],
   "source": [
    "df[[\"crawler\",\"area_limpo\", \"Banheiro\", \"Quarto\", \"condominio\",\"preço\"]].info()"
   ]
  },
  {
   "cell_type": "code",
   "execution_count": 4,
   "metadata": {},
   "outputs": [],
   "source": [
    "label_encoder = LabelEncoder()\n",
    "df['crawler_codificado'] = label_encoder.fit_transform(df['crawler'])+1"
   ]
  },
  {
   "cell_type": "code",
   "execution_count": 28,
   "metadata": {},
   "outputs": [
    {
     "name": "stdout",
     "output_type": "stream",
     "text": [
      "         crawler  crawler_codificado\n",
      "0     bela_vista                   1\n",
      "1075   liberdade                   5\n",
      "2153    brooklin                   3\n",
      "3165       saúde                   6\n",
      "4242    ipiranga                   4\n",
      "5311     broklin                   2\n"
     ]
    }
   ],
   "source": [
    "valores_unicos = df[['crawler', 'crawler_codificado']].drop_duplicates()\n",
    "print(valores_unicos)"
   ]
  },
  {
   "cell_type": "code",
   "execution_count": 6,
   "metadata": {},
   "outputs": [],
   "source": [
    "# Substituir valores nulos por 0 no DataFrame df\n",
    "df.fillna(0, inplace=True)"
   ]
  },
  {
   "cell_type": "code",
   "execution_count": 7,
   "metadata": {},
   "outputs": [],
   "source": [
    "x = X = df[[\"crawler_codificado\",\"area_limpo\", \"Banheiro\", \"Quarto\", \"condominio\"]]\n",
    "y = df[\"preço\"]"
   ]
  },
  {
   "cell_type": "markdown",
   "metadata": {},
   "source": [
    "### Separando dados de Treino e teste"
   ]
  },
  {
   "cell_type": "code",
   "execution_count": 8,
   "metadata": {},
   "outputs": [],
   "source": [
    "x_train, x_test, y_train, y_test = train_test_split(X, y, test_size=.20, random_state=42, shuffle=True)"
   ]
  },
  {
   "cell_type": "code",
   "execution_count": 9,
   "metadata": {},
   "outputs": [
    {
     "data": {
      "text/plain": [
       "(6323, 5)"
      ]
     },
     "execution_count": 9,
     "metadata": {},
     "output_type": "execute_result"
    }
   ],
   "source": [
    "X.shape"
   ]
  },
  {
   "cell_type": "code",
   "execution_count": 10,
   "metadata": {},
   "outputs": [
    {
     "data": {
      "text/plain": [
       "(1265, 5)"
      ]
     },
     "execution_count": 10,
     "metadata": {},
     "output_type": "execute_result"
    }
   ],
   "source": [
    "x_test.shape"
   ]
  },
  {
   "cell_type": "code",
   "execution_count": 11,
   "metadata": {},
   "outputs": [
    {
     "data": {
      "text/plain": [
       "4567    1500000\n",
       "5842    3500000\n",
       "5113     604000\n",
       "3333     890000\n",
       "3382     949000\n",
       "         ...   \n",
       "3772     780000\n",
       "5191    1000000\n",
       "5226    1200000\n",
       "5390    1040500\n",
       "860     1059980\n",
       "Name: preço, Length: 5058, dtype: int64"
      ]
     },
     "execution_count": 11,
     "metadata": {},
     "output_type": "execute_result"
    }
   ],
   "source": [
    "y_train"
   ]
  },
  {
   "cell_type": "markdown",
   "metadata": {},
   "source": [
    "### Iniciando treinamento do Modelo"
   ]
  },
  {
   "cell_type": "markdown",
   "metadata": {},
   "source": [
    "#### Modelo de regressão linear simples"
   ]
  },
  {
   "cell_type": "code",
   "execution_count": 12,
   "metadata": {},
   "outputs": [],
   "source": [
    "#fit_intercept Ele controla se o modelo de regressão linear deve calcular ou não o intercepto (também conhecido como viés ou coeficiente linear)\n",
    "linear1 = LinearRegression(fit_intercept=True)\n",
    "linear2 = LinearRegression(fit_intercept=False)"
   ]
  },
  {
   "cell_type": "code",
   "execution_count": 13,
   "metadata": {},
   "outputs": [
    {
     "data": {
      "text/plain": [
       "LinearRegression(fit_intercept=False)"
      ]
     },
     "execution_count": 13,
     "metadata": {},
     "output_type": "execute_result"
    }
   ],
   "source": [
    "linear1.fit(x_train,y_train)\n",
    "linear2.fit(x_train,y_train)"
   ]
  },
  {
   "cell_type": "code",
   "execution_count": 14,
   "metadata": {},
   "outputs": [],
   "source": [
    "y_pred_train1 = linear1.predict(x_train)\n",
    "y_pred_test1 = linear1.predict(x_test)\n",
    "y_pred_train2 = linear2.predict(x_train)\n",
    "y_pred_test2 = linear2.predict(x_test)"
   ]
  },
  {
   "cell_type": "markdown",
   "metadata": {},
   "source": [
    "Calculando o MAPE (Mean Absolute Percentage Error)"
   ]
  },
  {
   "cell_type": "code",
   "execution_count": 15,
   "metadata": {},
   "outputs": [
    {
     "name": "stdout",
     "output_type": "stream",
     "text": [
      "\n",
      "Mape Train:\n",
      "0.2896454939185862 , 0.2820355892024813\n",
      "Mape Teste:\n",
      "0.2910258277372013 , 0.2815927282506992\n",
      "\n"
     ]
    }
   ],
   "source": [
    "print(f'''\n",
    "Mape Train:\n",
    "{np.mean(np.abs(y_train - y_pred_train1)/y_train)} , {np.mean(np.abs(y_train - y_pred_train2)/y_train)}\n",
    "Mape Teste:\n",
    "{np.mean(np.abs(y_test - y_pred_test1)/y_test)} , {np.mean(np.abs(y_test - y_pred_test2)/y_test)}\n",
    "''')"
   ]
  },
  {
   "cell_type": "markdown",
   "metadata": {},
   "source": [
    "Calculando o MSE (Mean Squared Error)"
   ]
  },
  {
   "cell_type": "code",
   "execution_count": 16,
   "metadata": {},
   "outputs": [
    {
     "data": {
      "text/plain": [
       "168656732944.5689"
      ]
     },
     "execution_count": 16,
     "metadata": {},
     "output_type": "execute_result"
    }
   ],
   "source": [
    "mean_squared_error(y_test, y_pred_test1)"
   ]
  },
  {
   "cell_type": "code",
   "execution_count": 17,
   "metadata": {},
   "outputs": [
    {
     "data": {
      "text/plain": [
       "168342035448.98294"
      ]
     },
     "execution_count": 17,
     "metadata": {},
     "output_type": "execute_result"
    }
   ],
   "source": [
    "mean_squared_error(y_test, y_pred_test2)"
   ]
  },
  {
   "cell_type": "markdown",
   "metadata": {},
   "source": [
    "Calulando o R²"
   ]
  },
  {
   "cell_type": "code",
   "execution_count": 18,
   "metadata": {},
   "outputs": [
    {
     "data": {
      "text/plain": [
       "0.7512517806370982"
      ]
     },
     "execution_count": 18,
     "metadata": {},
     "output_type": "execute_result"
    }
   ],
   "source": [
    "r2_linear1 = r2_score(y_test, y_pred_test1)\n",
    "r2_score(y_test, y_pred_test1)"
   ]
  },
  {
   "cell_type": "code",
   "execution_count": 19,
   "metadata": {},
   "outputs": [
    {
     "data": {
      "text/plain": [
       "0.751715921263436"
      ]
     },
     "execution_count": 19,
     "metadata": {},
     "output_type": "execute_result"
    }
   ],
   "source": [
    "r2_linear1 = r2_score(y_test, y_pred_test2)\n",
    "r2_score(y_test, y_pred_test2)"
   ]
  },
  {
   "cell_type": "markdown",
   "metadata": {},
   "source": [
    "## Treinando outros modelos"
   ]
  },
  {
   "cell_type": "markdown",
   "metadata": {},
   "source": [
    "Treinamento"
   ]
  },
  {
   "cell_type": "code",
   "execution_count": 20,
   "metadata": {},
   "outputs": [
    {
     "name": "stdout",
     "output_type": "stream",
     "text": [
      "R-squared for Ridge: 0.7513\n",
      "Mean Squared Error for Ridge: 168655369768.0363\n",
      "Mean Absolute Error for Ridge: 277220.6863\n",
      "Mena Absolute Percentage Error Ridge: 0.29\n",
      "\n",
      "R-squared for KNeighborsRegressor: 0.7237\n",
      "Mean Squared Error for KNeighborsRegressor: 187340864828.1256\n",
      "Mean Absolute Error for KNeighborsRegressor: 256927.8383\n",
      "Mena Absolute Percentage Error KNeighborsRegressor: 0.26\n",
      "\n",
      "R-squared for DecisionTreeRegressor: 0.8285\n",
      "Mean Squared Error for DecisionTreeRegressor: 116308591954.2128\n",
      "Mean Absolute Error for DecisionTreeRegressor: 168381.9752\n",
      "Mena Absolute Percentage Error DecisionTreeRegressor: 0.17\n",
      "\n",
      "R-squared for ExtraTreeRegressor: 0.7785\n",
      "Mean Squared Error for ExtraTreeRegressor: 150170356982.1560\n",
      "Mean Absolute Error for ExtraTreeRegressor: 193639.2201\n",
      "Mena Absolute Percentage Error ExtraTreeRegressor: 0.19\n",
      "\n"
     ]
    },
    {
     "name": "stdout",
     "output_type": "stream",
     "text": [
      "R-squared for RandomForestRegressor: 0.8851\n",
      "Mean Squared Error for RandomForestRegressor: 77899852965.7570\n",
      "Mean Absolute Error for RandomForestRegressor: 152370.1405\n",
      "Mena Absolute Percentage Error RandomForestRegressor: 0.15\n",
      "\n",
      "R-squared for XGBRegressor: 0.8871\n",
      "Mean Squared Error for XGBRegressor: 76578395957.2856\n",
      "Mean Absolute Error for XGBRegressor: 163232.5834\n",
      "Mena Absolute Percentage Error XGBRegressor: 0.17\n",
      "\n",
      "R-squared for CatBoostRegressor: 0.8805\n",
      "Mean Squared Error for CatBoostRegressor: 81022853093.5424\n",
      "Mean Absolute Error for CatBoostRegressor: 177857.0540\n",
      "Mena Absolute Percentage Error CatBoostRegressor: 0.19\n",
      "\n"
     ]
    }
   ],
   "source": [
    "models = {\n",
    "    'Ridge': Ridge(),\n",
    "    'KNeighborsRegressor': KNeighborsRegressor(),\n",
    "    'DecisionTreeRegressor': DecisionTreeRegressor(),\n",
    "    'ExtraTreeRegressor': ExtraTreeRegressor(),\n",
    "    'RandomForestRegressor': RandomForestRegressor(),\n",
    "    'XGBRegressor': XGBRegressor(),\n",
    "    'CatBoostRegressor': CatBoostRegressor(verbose=False)\n",
    "}\n",
    "\n",
    "for model_name, model_instance in models.items():\n",
    "    # Treine o modelo\n",
    "    model_instance.fit(x_train, y_train)\n",
    "    \n",
    "    # Faça previsões\n",
    "    y_pred = model_instance.predict(x_test)\n",
    "    \n",
    "    r2 = r2_score(y_test, y_pred)\n",
    "    mse = mean_squared_error(y_test, y_pred)\n",
    "    mae = mean_absolute_error(y_test, y_pred)\n",
    "    mape = mean_absolute_percentage_error(y_test, y_pred)\n",
    "    print(f'R-squared for {model_name}: {r2:.4f}')\n",
    "    print(f'Mean Squared Error for {model_name}: {mse:.4f}')\n",
    "    print(f'Mean Absolute Error for {model_name}: {mae:.4f}')\n",
    "    print(f'Mena Absolute Percentage Error {model_name}: {mape:.2f}\\n')"
   ]
  },
  {
   "cell_type": "code",
   "execution_count": 21,
   "metadata": {},
   "outputs": [
    {
     "name": "stdout",
     "output_type": "stream",
     "text": [
      "Best Parameters for Linear Regression:\n",
      "{}\n",
      "Best Mean Squared Error for Linear Regression: 199440431443.52\n",
      "R-squared for Linear Regression: 0.75\n",
      "Mean Squared Error for Linear Regression: 168656732944.56\n",
      "Mean Absolute Error for Linear Regression: 277223.57\n",
      "Mena Absolute Percentage Error Linear Regression: 0.29\n",
      "\n",
      "Best Parameters for Ridge Regression:\n",
      "{'ridge_reg__alpha': 0.1}\n",
      "Best Mean Squared Error for Ridge Regression: 199182425147.49\n",
      "R-squared for Ridge Regression: 0.75\n",
      "Mean Squared Error for Ridge Regression: 169172403773.23\n",
      "Mean Absolute Error for Ridge Regression: 277664.63\n",
      "Mena Absolute Percentage Error Ridge Regression: 0.29\n",
      "\n",
      "Best Parameters for KNeighborsRegressor:\n",
      "{'knn__n_neighbors': 7, 'knn__weights': 'distance'}\n",
      "Best Mean Squared Error for KNeighborsRegressor: 93638482092.56\n",
      "R-squared for KNeighborsRegressor: 0.84\n",
      "Mean Squared Error for KNeighborsRegressor: 108124703072.07\n",
      "Mean Absolute Error for KNeighborsRegressor: 175982.74\n",
      "Mena Absolute Percentage Error KNeighborsRegressor: 0.16\n",
      "\n",
      "Best Parameters for Decision Tree:\n",
      "{'decision_tree__max_depth': 20, 'decision_tree__min_samples_split': 2}\n",
      "Best Mean Squared Error for Decision Tree: 97571911618.49\n",
      "R-squared for Decision Tree: 0.84\n",
      "Mean Squared Error for Decision Tree: 109787805835.68\n",
      "Mean Absolute Error for Decision Tree: 165959.52\n",
      "Mena Absolute Percentage Error Decision Tree: 0.17\n",
      "\n",
      "Best Parameters for Extra Tree:\n",
      "{'extra_tree__max_depth': 20, 'extra_tree__min_samples_split': 10}\n",
      "Best Mean Squared Error for Extra Tree: 124198156663.81\n",
      "R-squared for Extra Tree: 0.78\n",
      "Mean Squared Error for Extra Tree: 149956823935.35\n",
      "Mean Absolute Error for Extra Tree: 220000.30\n",
      "Mena Absolute Percentage Error Extra Tree: 0.21\n",
      "\n",
      "Best Parameters for Random Forest:\n",
      "{'random_forest__max_depth': 20, 'random_forest__min_samples_split': 2, 'random_forest__n_estimators': 200}\n",
      "Best Mean Squared Error for Random Forest: 69498586760.74\n",
      "R-squared for Random Forest: 0.89\n",
      "Mean Squared Error for Random Forest: 75501455108.86\n",
      "Mean Absolute Error for Random Forest: 150600.46\n",
      "Mena Absolute Percentage Error Random Forest: 0.15\n",
      "\n",
      "Best Parameters for XGBoost:\n",
      "{'xgboost__learning_rate': 0.2, 'xgboost__max_depth': 7, 'xgboost__n_estimators': 200}\n",
      "Best Mean Squared Error for XGBoost: 72369642931.95\n",
      "R-squared for XGBoost: 0.89\n",
      "Mean Squared Error for XGBoost: 76575120509.43\n",
      "Mean Absolute Error for XGBoost: 154224.99\n",
      "Mena Absolute Percentage Error XGBoost: 0.16\n",
      "\n",
      "Best Parameters for CatBoost:\n",
      "{'catboost__depth': 8, 'catboost__learning_rate': 0.2, 'catboost__n_estimators': 200}\n",
      "Best Mean Squared Error for CatBoost: 77606447853.81\n",
      "R-squared for CatBoost: 0.88\n",
      "Mean Squared Error for CatBoost: 80883625055.68\n",
      "Mean Absolute Error for CatBoost: 174559.43\n",
      "Mena Absolute Percentage Error CatBoost: 0.19\n",
      "\n"
     ]
    }
   ],
   "source": [
    "linear_reg_pipeline = Pipeline([\n",
    "    ('scaler', MinMaxScaler()),  # Aplica o MinMaxScaler\n",
    "    ('linear_reg', LinearRegression())  # Modelo de regressão linear\n",
    "])\n",
    "\n",
    "ridge_reg_pipeline = Pipeline([\n",
    "    ('scaler', MinMaxScaler()),  # Aplica o MinMaxScaler\n",
    "    ('ridge_reg', Ridge())  # Modelo de regressão Ridge\n",
    "])\n",
    "\n",
    "knn_pipeline = Pipeline([ \n",
    "    ('scaler', MinMaxScaler()),  # Aplica o MinMaxScaler\n",
    "    ('knn', KNeighborsRegressor())  # Modelo K-Nearest Neighbors\n",
    "])\n",
    "\n",
    "decision_tree = Pipeline([\n",
    "    ('scaler', MinMaxScaler()),  # Aplica o MinMaxScaler\n",
    "    ('decision_tree', DecisionTreeRegressor())  # Modelo Decision Tree\n",
    "])\n",
    "\n",
    "extra_tree = Pipeline([\n",
    "    ('scaler', MinMaxScaler()),  # Aplica o MinMaxScaler\n",
    "    ('extra_tree', ExtraTreeRegressor())  # Modelo Extra Tree\n",
    "])\n",
    "\n",
    "random_forest = Pipeline([\n",
    "    ('scaler', MinMaxScaler()),  # Aplica o MinMaxScaler\n",
    "    ('random_forest', RandomForestRegressor())  # Modelo Random Forest\n",
    "])\n",
    "\n",
    "xgboost = Pipeline([\n",
    "    ('scaler', MinMaxScaler()),  # Aplica o MinMaxScaler\n",
    "    ('xgboost', XGBRegressor())  # Modelo XGBoost\n",
    "])\n",
    "\n",
    "catboost = Pipeline([\n",
    "    ('scaler', MinMaxScaler()),  # Aplica o MinMaxScaler\n",
    "    ('catboost', CatBoostRegressor(verbose=False))  # Modelo CatBoost\n",
    "])\n",
    "\n",
    "param_grid_linear_reg = {\n",
    "}\n",
    "    \n",
    "param_grid_ridge_reg = {\n",
    "    'ridge_reg__alpha': [0.1, 1.0, 10.0]\n",
    "}\n",
    "\n",
    "param_grid_knn = {\n",
    "    'knn__n_neighbors': [3, 5, 7],\n",
    "    'knn__weights': ['uniform', 'distance']\n",
    "}\n",
    "\n",
    "# Dicionários de hiperparâmetros para modelos adicionais\n",
    "param_grid_decision_tree = {\n",
    "    'decision_tree__max_depth': [None, 10, 20],\n",
    "    'decision_tree__min_samples_split': [2, 5, 10]\n",
    "}\n",
    "\n",
    "param_grid_extra_tree = {\n",
    "    'extra_tree__max_depth': [None, 10, 20],\n",
    "    'extra_tree__min_samples_split': [2, 5, 10]\n",
    "}\n",
    "\n",
    "param_grid_random_forest = {\n",
    "    'random_forest__n_estimators': [50, 100, 200],\n",
    "    'random_forest__max_depth': [None, 10, 20],\n",
    "    'random_forest__min_samples_split': [2, 5, 10]\n",
    "}\n",
    "\n",
    "param_grid_xgboost = {\n",
    "    'xgboost__n_estimators': [50, 100, 200],\n",
    "    'xgboost__max_depth': [3, 5, 7],\n",
    "    'xgboost__learning_rate': [0.01, 0.1, 0.2]\n",
    "}\n",
    "\n",
    "param_grid_catboost = {\n",
    "    'catboost__n_estimators': [50, 100, 200],\n",
    "    'catboost__depth': [6, 8, 10],\n",
    "    'catboost__learning_rate': [0.01, 0.1, 0.2]\n",
    "}\n",
    "\n",
    "# Adicione mais modelos e dicionários de hiperparâmetros conforme necessário\n",
    "\n",
    "models_and_params = [\n",
    "    ('Linear Regression', linear_reg_pipeline, param_grid_linear_reg),\n",
    "    ('Ridge Regression', ridge_reg_pipeline, param_grid_ridge_reg),\n",
    "    ('KNeighborsRegressor', knn_pipeline, param_grid_knn),\n",
    "    ('Decision Tree', decision_tree, param_grid_decision_tree),\n",
    "    ('Extra Tree', extra_tree, param_grid_extra_tree),\n",
    "    ('Random Forest', random_forest, param_grid_random_forest),\n",
    "    ('XGBoost', xgboost, param_grid_xgboost),\n",
    "    ('CatBoost', catboost, param_grid_catboost)\n",
    "]\n",
    "\n",
    "# Use GridSearchCV para otimizar os modelos\n",
    "for model_name, model, param_grid in models_and_params:\n",
    "    grid_search = GridSearchCV(model, param_grid, cv=5, scoring='neg_mean_squared_error', n_jobs=-1)\n",
    "    grid_search.fit(x_train, y_train)\n",
    "\n",
    "    # Exiba os melhores hiperparâmetros e métricas de desempenho\n",
    "    print(f\"Best Parameters for {model_name}:\")\n",
    "    print(grid_search.best_params_)\n",
    "    print(f\"Best Mean Squared Error for {model_name}: {abs(grid_search.best_score_):.2f}\")\n",
    "    \n",
    "    # Avalie o modelo otimizado no conjunto de teste\n",
    "    y_pred = grid_search.best_estimator_.predict(x_test)\n",
    "    r2 = r2_score(y_test, y_pred)\n",
    "    mse = mean_squared_error(y_test, y_pred)\n",
    "    mae = mean_absolute_error(y_test, y_pred)\n",
    "    mape = mean_absolute_percentage_error(y_test, y_pred)\n",
    "    print(f'R-squared for {model_name}: {r2:.2f}')\n",
    "    print(f'Mean Squared Error for {model_name}: {mse:.2f}')\n",
    "    print(f'Mean Absolute Error for {model_name}: {mae:.2f}')\n",
    "    print(f'Mena Absolute Percentage Error {model_name}: {mape:.2f}\\n')"
   ]
  },
  {
   "cell_type": "code",
   "execution_count": 33,
   "metadata": {},
   "outputs": [],
   "source": [
    "# Criar e treinar o modelo\n",
    "modelo_random_forest = RandomForestRegressor(max_depth=20, min_samples_split=2, n_estimators=200)\n",
    "modelo_random_forest.fit(x_train, y_train)  # Substitua x_train e y_train pelos seus dados de treinamento\n",
    "\n",
    "joblib.dump(modelo_random_forest, '../modelo/modelo_random_forest.pkl')\n",
    "modelo_carregado_rf = joblib.load('../modelo/modelo_random_forest.pkl')"
   ]
  },
  {
   "cell_type": "code",
   "execution_count": 34,
   "metadata": {},
   "outputs": [
    {
     "name": "stdout",
     "output_type": "stream",
     "text": [
      "   crawler  area_limpo  Banheiro  Quarto  condominio\n",
      "0        2          40         1       2         700\n"
     ]
    }
   ],
   "source": [
    "novos_dados = pd.DataFrame({\n",
    "    'crawler': ['broklin'],  # Substitua 'Valor_Do_Crawler' pelo valor real\n",
    "    'area_limpo': [40],  # Substitua 'Valor_Da_Area_Limpo' pelo valor real\n",
    "    'Banheiro': [1],  # Substitua 'Quantidade_De_Banheiros' pelo valor real\n",
    "    'Quarto': [2],  # Substitua 'Quantidade_De_Quartos' pelo valor real\n",
    "    'condominio': [700]  # Substitua 'Valor_Do_Condominio' pelo valor real\n",
    "})\n",
    "\n",
    "mapeamento_crawler = {\n",
    "    'belavista': 1,\n",
    "    'liberdade': 5,\n",
    "    'brooklin': 3,\n",
    "    'saude': 6,\n",
    "    'ipiranga': 4,\n",
    "    'broklin': 2  # Adicione os outros mapeamentos conforme necessário\n",
    "}\n",
    "\n",
    "# Substituir valores da coluna 'crawler' pelos códigos numéricos correspondentes\n",
    "novos_dados['crawler'] = novos_dados['crawler'].map(mapeamento_crawler)\n",
    "\n",
    "# Resultado\n",
    "print(novos_dados)"
   ]
  },
  {
   "cell_type": "code",
   "execution_count": 35,
   "metadata": {},
   "outputs": [
    {
     "name": "stdout",
     "output_type": "stream",
     "text": [
      "Previsões:\n",
      "[410015.5]\n"
     ]
    }
   ],
   "source": [
    "\n",
    "previsoes_rf = modelo_carregado_rf.predict(novos_dados)  # Substitua novos_dados pelos seus novos dados\n",
    "print(\"Previsões:\")\n",
    "print(previsoes_rf)"
   ]
  }
 ],
 "metadata": {
  "kernelspec": {
   "display_name": "Python 3",
   "language": "python",
   "name": "python3"
  },
  "language_info": {
   "codemirror_mode": {
    "name": "ipython",
    "version": 3
   },
   "file_extension": ".py",
   "mimetype": "text/x-python",
   "name": "python",
   "nbconvert_exporter": "python",
   "pygments_lexer": "ipython3",
   "version": "3.10.12"
  },
  "orig_nbformat": 4
 },
 "nbformat": 4,
 "nbformat_minor": 2
}
