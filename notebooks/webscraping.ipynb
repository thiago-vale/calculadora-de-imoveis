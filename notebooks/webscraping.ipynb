{
 "cells": [
  {
   "cell_type": "code",
   "execution_count": 1,
   "metadata": {},
   "outputs": [],
   "source": [
    "from selenium import webdriver\n",
    "from webdriver_manager.chrome import ChromeDriverManager\n",
    "from selenium.webdriver.common.action_chains import ActionChains\n",
    "from bs4 import BeautifulSoup\n",
    "from time import sleep\n",
    "import pandas as pd\n",
    "from tqdm import tqdm\n",
    "from datetime import datetime\n",
    "import requests"
   ]
  },
  {
   "cell_type": "code",
   "execution_count": 2,
   "metadata": {},
   "outputs": [],
   "source": [
    "#Sempre que o chrome drvier for aberto o mesmo irá atualizar atomaticamente.\n",
    "#driver = webdriver.Chrome(ChromeDriverManager().install())"
   ]
  },
  {
   "cell_type": "code",
   "execution_count": 1,
   "metadata": {},
   "outputs": [
    {
     "name": "stdout",
     "output_type": "stream",
     "text": [
      "Defaulting to user installation because normal site-packages is not writeable\n",
      "Collecting webdriver-manager==3.3.0\n",
      "  Using cached webdriver_manager-3.3.0-py2.py3-none-any.whl (16 kB)\n",
      "Requirement already satisfied: requests in /home/thiago-vale/.local/lib/python3.10/site-packages (from webdriver-manager==3.3.0) (2.28.2)\n",
      "Collecting crayons\n",
      "  Using cached crayons-0.4.0-py2.py3-none-any.whl (4.6 kB)\n",
      "Collecting configparser\n",
      "  Using cached configparser-6.0.0-py3-none-any.whl (19 kB)\n",
      "Requirement already satisfied: colorama in /usr/lib/python3/dist-packages (from crayons->webdriver-manager==3.3.0) (0.4.4)\n",
      "Requirement already satisfied: certifi>=2017.4.17 in /home/thiago-vale/.local/lib/python3.10/site-packages (from requests->webdriver-manager==3.3.0) (2022.12.7)\n",
      "Requirement already satisfied: idna<4,>=2.5 in /usr/lib/python3/dist-packages (from requests->webdriver-manager==3.3.0) (3.3)\n",
      "Requirement already satisfied: urllib3<1.27,>=1.21.1 in /usr/lib/python3/dist-packages (from requests->webdriver-manager==3.3.0) (1.26.5)\n",
      "Requirement already satisfied: charset-normalizer<4,>=2 in /home/thiago-vale/.local/lib/python3.10/site-packages (from requests->webdriver-manager==3.3.0) (3.1.0)\n",
      "Installing collected packages: crayons, configparser, webdriver-manager\n",
      "Successfully installed configparser-6.0.0 crayons-0.4.0 webdriver-manager-3.3.0\n"
     ]
    }
   ],
   "source": [
    "!pip3 install webdriver-manager==3.3.0"
   ]
  },
  {
   "cell_type": "code",
   "execution_count": 4,
   "metadata": {},
   "outputs": [
    {
     "name": "stderr",
     "output_type": "stream",
     "text": [
      "[WDM] - ====== WebDriver manager ======\n",
      "[WDM] - Current google-chrome version is 114.0.5735\n",
      "[WDM] - Get LATEST driver version for 114.0.5735\n"
     ]
    },
    {
     "name": "stdout",
     "output_type": "stream",
     "text": [
      "\n",
      "\n"
     ]
    },
    {
     "name": "stderr",
     "output_type": "stream",
     "text": [
      "[WDM] - Driver [/home/thiago-vale/.wdm/drivers/chromedriver/linux64/114.0.5735.90/chromedriver] found in cache\n",
      "Brooklin: 100%|██████████| 30/30 [06:56<00:00, 13.88s/it]\n"
     ]
    },
    {
     "name": "stdout",
     "output_type": "stream",
     "text": [
      "No cookies!\n"
     ]
    },
    {
     "name": "stderr",
     "output_type": "stream",
     "text": [
      "Butanta:  10%|█         | 3/30 [00:52<07:48, 17.36s/it]\n"
     ]
    },
    {
     "ename": "KeyboardInterrupt",
     "evalue": "",
     "output_type": "error",
     "traceback": [
      "\u001b[0;31m---------------------------------------------------------------------------\u001b[0m",
      "\u001b[0;31mKeyboardInterrupt\u001b[0m                         Traceback (most recent call last)",
      "Cell \u001b[0;32mIn[4], line 55\u001b[0m\n\u001b[1;32m     52\u001b[0m \u001b[39mfor\u001b[39;00m i \u001b[39min\u001b[39;00m tqdm(\u001b[39mrange\u001b[39m(\u001b[39m30\u001b[39m), desc\u001b[39m=\u001b[39mbairro):\n\u001b[1;32m     54\u001b[0m     sleep(\u001b[39m5\u001b[39m)\n\u001b[0;32m---> 55\u001b[0m     main_div \u001b[39m=\u001b[39m driver\u001b[39m.\u001b[39;49mfind_element_by_class_name(\u001b[39m\"\u001b[39;49m\u001b[39mresults-main__panel\u001b[39;49m\u001b[39m\"\u001b[39;49m)\n\u001b[1;32m     56\u001b[0m     properties \u001b[39m=\u001b[39m main_div\u001b[39m.\u001b[39mfind_elements_by_class_name(\u001b[39m\"\u001b[39m\u001b[39mjs-property-card\u001b[39m\u001b[39m\"\u001b[39m)\n\u001b[1;32m     57\u001b[0m     paginator \u001b[39m=\u001b[39m driver\u001b[39m.\u001b[39mfind_element_by_class_name(\u001b[39m\"\u001b[39m\u001b[39mjs-results-pagination\u001b[39m\u001b[39m\"\u001b[39m)\n",
      "File \u001b[0;32m~/.local/lib/python3.10/site-packages/selenium/webdriver/remote/webdriver.py:564\u001b[0m, in \u001b[0;36mWebDriver.find_element_by_class_name\u001b[0;34m(self, name)\u001b[0m\n\u001b[1;32m    548\u001b[0m \u001b[39mdef\u001b[39;00m \u001b[39mfind_element_by_class_name\u001b[39m(\u001b[39mself\u001b[39m, name):\n\u001b[1;32m    549\u001b[0m \u001b[39m    \u001b[39m\u001b[39m\"\"\"\u001b[39;00m\n\u001b[1;32m    550\u001b[0m \u001b[39m    Finds an element by class name.\u001b[39;00m\n\u001b[1;32m    551\u001b[0m \n\u001b[0;32m   (...)\u001b[0m\n\u001b[1;32m    562\u001b[0m \u001b[39m        element = driver.find_element_by_class_name('foo')\u001b[39;00m\n\u001b[1;32m    563\u001b[0m \u001b[39m    \"\"\"\u001b[39;00m\n\u001b[0;32m--> 564\u001b[0m     \u001b[39mreturn\u001b[39;00m \u001b[39mself\u001b[39;49m\u001b[39m.\u001b[39;49mfind_element(by\u001b[39m=\u001b[39;49mBy\u001b[39m.\u001b[39;49mCLASS_NAME, value\u001b[39m=\u001b[39;49mname)\n",
      "File \u001b[0;32m~/.local/lib/python3.10/site-packages/selenium/webdriver/remote/webdriver.py:976\u001b[0m, in \u001b[0;36mWebDriver.find_element\u001b[0;34m(self, by, value)\u001b[0m\n\u001b[1;32m    974\u001b[0m         by \u001b[39m=\u001b[39m By\u001b[39m.\u001b[39mCSS_SELECTOR\n\u001b[1;32m    975\u001b[0m         value \u001b[39m=\u001b[39m \u001b[39m'\u001b[39m\u001b[39m[name=\u001b[39m\u001b[39m\"\u001b[39m\u001b[39m%s\u001b[39;00m\u001b[39m\"\u001b[39m\u001b[39m]\u001b[39m\u001b[39m'\u001b[39m \u001b[39m%\u001b[39m value\n\u001b[0;32m--> 976\u001b[0m \u001b[39mreturn\u001b[39;00m \u001b[39mself\u001b[39;49m\u001b[39m.\u001b[39;49mexecute(Command\u001b[39m.\u001b[39;49mFIND_ELEMENT, {\n\u001b[1;32m    977\u001b[0m     \u001b[39m'\u001b[39;49m\u001b[39musing\u001b[39;49m\u001b[39m'\u001b[39;49m: by,\n\u001b[1;32m    978\u001b[0m     \u001b[39m'\u001b[39;49m\u001b[39mvalue\u001b[39;49m\u001b[39m'\u001b[39;49m: value})[\u001b[39m'\u001b[39m\u001b[39mvalue\u001b[39m\u001b[39m'\u001b[39m]\n",
      "File \u001b[0;32m~/.local/lib/python3.10/site-packages/selenium/webdriver/remote/webdriver.py:319\u001b[0m, in \u001b[0;36mWebDriver.execute\u001b[0;34m(self, driver_command, params)\u001b[0m\n\u001b[1;32m    316\u001b[0m         params[\u001b[39m'\u001b[39m\u001b[39msessionId\u001b[39m\u001b[39m'\u001b[39m] \u001b[39m=\u001b[39m \u001b[39mself\u001b[39m\u001b[39m.\u001b[39msession_id\n\u001b[1;32m    318\u001b[0m params \u001b[39m=\u001b[39m \u001b[39mself\u001b[39m\u001b[39m.\u001b[39m_wrap_value(params)\n\u001b[0;32m--> 319\u001b[0m response \u001b[39m=\u001b[39m \u001b[39mself\u001b[39;49m\u001b[39m.\u001b[39;49mcommand_executor\u001b[39m.\u001b[39;49mexecute(driver_command, params)\n\u001b[1;32m    320\u001b[0m \u001b[39mif\u001b[39;00m response:\n\u001b[1;32m    321\u001b[0m     \u001b[39mself\u001b[39m\u001b[39m.\u001b[39merror_handler\u001b[39m.\u001b[39mcheck_response(response)\n",
      "File \u001b[0;32m~/.local/lib/python3.10/site-packages/selenium/webdriver/remote/remote_connection.py:374\u001b[0m, in \u001b[0;36mRemoteConnection.execute\u001b[0;34m(self, command, params)\u001b[0m\n\u001b[1;32m    372\u001b[0m data \u001b[39m=\u001b[39m utils\u001b[39m.\u001b[39mdump_json(params)\n\u001b[1;32m    373\u001b[0m url \u001b[39m=\u001b[39m \u001b[39m'\u001b[39m\u001b[39m%s\u001b[39;00m\u001b[39m%s\u001b[39;00m\u001b[39m'\u001b[39m \u001b[39m%\u001b[39m (\u001b[39mself\u001b[39m\u001b[39m.\u001b[39m_url, path)\n\u001b[0;32m--> 374\u001b[0m \u001b[39mreturn\u001b[39;00m \u001b[39mself\u001b[39;49m\u001b[39m.\u001b[39;49m_request(command_info[\u001b[39m0\u001b[39;49m], url, body\u001b[39m=\u001b[39;49mdata)\n",
      "File \u001b[0;32m~/.local/lib/python3.10/site-packages/selenium/webdriver/remote/remote_connection.py:397\u001b[0m, in \u001b[0;36mRemoteConnection._request\u001b[0;34m(self, method, url, body)\u001b[0m\n\u001b[1;32m    394\u001b[0m     body \u001b[39m=\u001b[39m \u001b[39mNone\u001b[39;00m\n\u001b[1;32m    396\u001b[0m \u001b[39mif\u001b[39;00m \u001b[39mself\u001b[39m\u001b[39m.\u001b[39mkeep_alive:\n\u001b[0;32m--> 397\u001b[0m     resp \u001b[39m=\u001b[39m \u001b[39mself\u001b[39;49m\u001b[39m.\u001b[39;49m_conn\u001b[39m.\u001b[39;49mrequest(method, url, body\u001b[39m=\u001b[39;49mbody, headers\u001b[39m=\u001b[39;49mheaders)\n\u001b[1;32m    399\u001b[0m     statuscode \u001b[39m=\u001b[39m resp\u001b[39m.\u001b[39mstatus\n\u001b[1;32m    400\u001b[0m \u001b[39melse\u001b[39;00m:\n",
      "File \u001b[0;32m/usr/lib/python3/dist-packages/urllib3/request.py:78\u001b[0m, in \u001b[0;36mRequestMethods.request\u001b[0;34m(self, method, url, fields, headers, **urlopen_kw)\u001b[0m\n\u001b[1;32m     74\u001b[0m     \u001b[39mreturn\u001b[39;00m \u001b[39mself\u001b[39m\u001b[39m.\u001b[39mrequest_encode_url(\n\u001b[1;32m     75\u001b[0m         method, url, fields\u001b[39m=\u001b[39mfields, headers\u001b[39m=\u001b[39mheaders, \u001b[39m*\u001b[39m\u001b[39m*\u001b[39murlopen_kw\n\u001b[1;32m     76\u001b[0m     )\n\u001b[1;32m     77\u001b[0m \u001b[39melse\u001b[39;00m:\n\u001b[0;32m---> 78\u001b[0m     \u001b[39mreturn\u001b[39;00m \u001b[39mself\u001b[39;49m\u001b[39m.\u001b[39;49mrequest_encode_body(\n\u001b[1;32m     79\u001b[0m         method, url, fields\u001b[39m=\u001b[39;49mfields, headers\u001b[39m=\u001b[39;49mheaders, \u001b[39m*\u001b[39;49m\u001b[39m*\u001b[39;49murlopen_kw\n\u001b[1;32m     80\u001b[0m     )\n",
      "File \u001b[0;32m/usr/lib/python3/dist-packages/urllib3/request.py:170\u001b[0m, in \u001b[0;36mRequestMethods.request_encode_body\u001b[0;34m(self, method, url, fields, headers, encode_multipart, multipart_boundary, **urlopen_kw)\u001b[0m\n\u001b[1;32m    167\u001b[0m extra_kw[\u001b[39m\"\u001b[39m\u001b[39mheaders\u001b[39m\u001b[39m\"\u001b[39m]\u001b[39m.\u001b[39mupdate(headers)\n\u001b[1;32m    168\u001b[0m extra_kw\u001b[39m.\u001b[39mupdate(urlopen_kw)\n\u001b[0;32m--> 170\u001b[0m \u001b[39mreturn\u001b[39;00m \u001b[39mself\u001b[39;49m\u001b[39m.\u001b[39;49murlopen(method, url, \u001b[39m*\u001b[39;49m\u001b[39m*\u001b[39;49mextra_kw)\n",
      "File \u001b[0;32m/usr/lib/python3/dist-packages/urllib3/poolmanager.py:375\u001b[0m, in \u001b[0;36mPoolManager.urlopen\u001b[0;34m(self, method, url, redirect, **kw)\u001b[0m\n\u001b[1;32m    373\u001b[0m     response \u001b[39m=\u001b[39m conn\u001b[39m.\u001b[39murlopen(method, url, \u001b[39m*\u001b[39m\u001b[39m*\u001b[39mkw)\n\u001b[1;32m    374\u001b[0m \u001b[39melse\u001b[39;00m:\n\u001b[0;32m--> 375\u001b[0m     response \u001b[39m=\u001b[39m conn\u001b[39m.\u001b[39;49murlopen(method, u\u001b[39m.\u001b[39;49mrequest_uri, \u001b[39m*\u001b[39;49m\u001b[39m*\u001b[39;49mkw)\n\u001b[1;32m    377\u001b[0m redirect_location \u001b[39m=\u001b[39m redirect \u001b[39mand\u001b[39;00m response\u001b[39m.\u001b[39mget_redirect_location()\n\u001b[1;32m    378\u001b[0m \u001b[39mif\u001b[39;00m \u001b[39mnot\u001b[39;00m redirect_location:\n",
      "File \u001b[0;32m/usr/lib/python3/dist-packages/urllib3/connectionpool.py:699\u001b[0m, in \u001b[0;36mHTTPConnectionPool.urlopen\u001b[0;34m(self, method, url, body, headers, retries, redirect, assert_same_host, timeout, pool_timeout, release_conn, chunked, body_pos, **response_kw)\u001b[0m\n\u001b[1;32m    696\u001b[0m     \u001b[39mself\u001b[39m\u001b[39m.\u001b[39m_prepare_proxy(conn)\n\u001b[1;32m    698\u001b[0m \u001b[39m# Make the request on the httplib connection object.\u001b[39;00m\n\u001b[0;32m--> 699\u001b[0m httplib_response \u001b[39m=\u001b[39m \u001b[39mself\u001b[39;49m\u001b[39m.\u001b[39;49m_make_request(\n\u001b[1;32m    700\u001b[0m     conn,\n\u001b[1;32m    701\u001b[0m     method,\n\u001b[1;32m    702\u001b[0m     url,\n\u001b[1;32m    703\u001b[0m     timeout\u001b[39m=\u001b[39;49mtimeout_obj,\n\u001b[1;32m    704\u001b[0m     body\u001b[39m=\u001b[39;49mbody,\n\u001b[1;32m    705\u001b[0m     headers\u001b[39m=\u001b[39;49mheaders,\n\u001b[1;32m    706\u001b[0m     chunked\u001b[39m=\u001b[39;49mchunked,\n\u001b[1;32m    707\u001b[0m )\n\u001b[1;32m    709\u001b[0m \u001b[39m# If we're going to release the connection in ``finally:``, then\u001b[39;00m\n\u001b[1;32m    710\u001b[0m \u001b[39m# the response doesn't need to know about the connection. Otherwise\u001b[39;00m\n\u001b[1;32m    711\u001b[0m \u001b[39m# it will also try to release it and we'll have a double-release\u001b[39;00m\n\u001b[1;32m    712\u001b[0m \u001b[39m# mess.\u001b[39;00m\n\u001b[1;32m    713\u001b[0m response_conn \u001b[39m=\u001b[39m conn \u001b[39mif\u001b[39;00m \u001b[39mnot\u001b[39;00m release_conn \u001b[39melse\u001b[39;00m \u001b[39mNone\u001b[39;00m\n",
      "File \u001b[0;32m/usr/lib/python3/dist-packages/urllib3/connectionpool.py:445\u001b[0m, in \u001b[0;36mHTTPConnectionPool._make_request\u001b[0;34m(self, conn, method, url, timeout, chunked, **httplib_request_kw)\u001b[0m\n\u001b[1;32m    440\u001b[0m             httplib_response \u001b[39m=\u001b[39m conn\u001b[39m.\u001b[39mgetresponse()\n\u001b[1;32m    441\u001b[0m         \u001b[39mexcept\u001b[39;00m \u001b[39mBaseException\u001b[39;00m \u001b[39mas\u001b[39;00m e:\n\u001b[1;32m    442\u001b[0m             \u001b[39m# Remove the TypeError from the exception chain in\u001b[39;00m\n\u001b[1;32m    443\u001b[0m             \u001b[39m# Python 3 (including for exceptions like SystemExit).\u001b[39;00m\n\u001b[1;32m    444\u001b[0m             \u001b[39m# Otherwise it looks like a bug in the code.\u001b[39;00m\n\u001b[0;32m--> 445\u001b[0m             six\u001b[39m.\u001b[39;49mraise_from(e, \u001b[39mNone\u001b[39;49;00m)\n\u001b[1;32m    446\u001b[0m \u001b[39mexcept\u001b[39;00m (SocketTimeout, BaseSSLError, SocketError) \u001b[39mas\u001b[39;00m e:\n\u001b[1;32m    447\u001b[0m     \u001b[39mself\u001b[39m\u001b[39m.\u001b[39m_raise_timeout(err\u001b[39m=\u001b[39me, url\u001b[39m=\u001b[39murl, timeout_value\u001b[39m=\u001b[39mread_timeout)\n",
      "File \u001b[0;32m<string>:3\u001b[0m, in \u001b[0;36mraise_from\u001b[0;34m(value, from_value)\u001b[0m\n",
      "File \u001b[0;32m/usr/lib/python3/dist-packages/urllib3/connectionpool.py:440\u001b[0m, in \u001b[0;36mHTTPConnectionPool._make_request\u001b[0;34m(self, conn, method, url, timeout, chunked, **httplib_request_kw)\u001b[0m\n\u001b[1;32m    437\u001b[0m \u001b[39mexcept\u001b[39;00m \u001b[39mTypeError\u001b[39;00m:\n\u001b[1;32m    438\u001b[0m     \u001b[39m# Python 3\u001b[39;00m\n\u001b[1;32m    439\u001b[0m     \u001b[39mtry\u001b[39;00m:\n\u001b[0;32m--> 440\u001b[0m         httplib_response \u001b[39m=\u001b[39m conn\u001b[39m.\u001b[39;49mgetresponse()\n\u001b[1;32m    441\u001b[0m     \u001b[39mexcept\u001b[39;00m \u001b[39mBaseException\u001b[39;00m \u001b[39mas\u001b[39;00m e:\n\u001b[1;32m    442\u001b[0m         \u001b[39m# Remove the TypeError from the exception chain in\u001b[39;00m\n\u001b[1;32m    443\u001b[0m         \u001b[39m# Python 3 (including for exceptions like SystemExit).\u001b[39;00m\n\u001b[1;32m    444\u001b[0m         \u001b[39m# Otherwise it looks like a bug in the code.\u001b[39;00m\n\u001b[1;32m    445\u001b[0m         six\u001b[39m.\u001b[39mraise_from(e, \u001b[39mNone\u001b[39;00m)\n",
      "File \u001b[0;32m/usr/lib/python3.10/http/client.py:1374\u001b[0m, in \u001b[0;36mHTTPConnection.getresponse\u001b[0;34m(self)\u001b[0m\n\u001b[1;32m   1372\u001b[0m \u001b[39mtry\u001b[39;00m:\n\u001b[1;32m   1373\u001b[0m     \u001b[39mtry\u001b[39;00m:\n\u001b[0;32m-> 1374\u001b[0m         response\u001b[39m.\u001b[39;49mbegin()\n\u001b[1;32m   1375\u001b[0m     \u001b[39mexcept\u001b[39;00m \u001b[39mConnectionError\u001b[39;00m:\n\u001b[1;32m   1376\u001b[0m         \u001b[39mself\u001b[39m\u001b[39m.\u001b[39mclose()\n",
      "File \u001b[0;32m/usr/lib/python3.10/http/client.py:318\u001b[0m, in \u001b[0;36mHTTPResponse.begin\u001b[0;34m(self)\u001b[0m\n\u001b[1;32m    316\u001b[0m \u001b[39m# read until we get a non-100 response\u001b[39;00m\n\u001b[1;32m    317\u001b[0m \u001b[39mwhile\u001b[39;00m \u001b[39mTrue\u001b[39;00m:\n\u001b[0;32m--> 318\u001b[0m     version, status, reason \u001b[39m=\u001b[39m \u001b[39mself\u001b[39;49m\u001b[39m.\u001b[39;49m_read_status()\n\u001b[1;32m    319\u001b[0m     \u001b[39mif\u001b[39;00m status \u001b[39m!=\u001b[39m CONTINUE:\n\u001b[1;32m    320\u001b[0m         \u001b[39mbreak\u001b[39;00m\n",
      "File \u001b[0;32m/usr/lib/python3.10/http/client.py:279\u001b[0m, in \u001b[0;36mHTTPResponse._read_status\u001b[0;34m(self)\u001b[0m\n\u001b[1;32m    278\u001b[0m \u001b[39mdef\u001b[39;00m \u001b[39m_read_status\u001b[39m(\u001b[39mself\u001b[39m):\n\u001b[0;32m--> 279\u001b[0m     line \u001b[39m=\u001b[39m \u001b[39mstr\u001b[39m(\u001b[39mself\u001b[39;49m\u001b[39m.\u001b[39;49mfp\u001b[39m.\u001b[39;49mreadline(_MAXLINE \u001b[39m+\u001b[39;49m \u001b[39m1\u001b[39;49m), \u001b[39m\"\u001b[39m\u001b[39miso-8859-1\u001b[39m\u001b[39m\"\u001b[39m)\n\u001b[1;32m    280\u001b[0m     \u001b[39mif\u001b[39;00m \u001b[39mlen\u001b[39m(line) \u001b[39m>\u001b[39m _MAXLINE:\n\u001b[1;32m    281\u001b[0m         \u001b[39mraise\u001b[39;00m LineTooLong(\u001b[39m\"\u001b[39m\u001b[39mstatus line\u001b[39m\u001b[39m\"\u001b[39m)\n",
      "File \u001b[0;32m/usr/lib/python3.10/socket.py:705\u001b[0m, in \u001b[0;36mSocketIO.readinto\u001b[0;34m(self, b)\u001b[0m\n\u001b[1;32m    703\u001b[0m \u001b[39mwhile\u001b[39;00m \u001b[39mTrue\u001b[39;00m:\n\u001b[1;32m    704\u001b[0m     \u001b[39mtry\u001b[39;00m:\n\u001b[0;32m--> 705\u001b[0m         \u001b[39mreturn\u001b[39;00m \u001b[39mself\u001b[39;49m\u001b[39m.\u001b[39;49m_sock\u001b[39m.\u001b[39;49mrecv_into(b)\n\u001b[1;32m    706\u001b[0m     \u001b[39mexcept\u001b[39;00m timeout:\n\u001b[1;32m    707\u001b[0m         \u001b[39mself\u001b[39m\u001b[39m.\u001b[39m_timeout_occurred \u001b[39m=\u001b[39m \u001b[39mTrue\u001b[39;00m\n",
      "\u001b[0;31mKeyboardInterrupt\u001b[0m: "
     ]
    }
   ],
   "source": [
    "#!/usr/bin/env python3\n",
    "# -*- coding: utf-8 -*-\n",
    "\"\"\"\n",
    "Created on Wed Mar  3 00:18:28 2021\n",
    "\n",
    "@author: pauloeduardosampaio\n",
    "\"\"\"\n",
    "\n",
    "from selenium import webdriver\n",
    "from webdriver_manager.chrome import ChromeDriverManager\n",
    "from selenium.webdriver.common.action_chains import ActionChains\n",
    "from time import sleep\n",
    "import pandas as pd\n",
    "from tqdm import tqdm\n",
    "from datetime import datetime\n",
    "\n",
    "driver = webdriver.Chrome(ChromeDriverManager().install())\n",
    "\n",
    "urls_dict = {\"Brooklin\": \"https://www.vivareal.com.br/venda/sp/sao-paulo/zona-sul/brooklin/apartamento_residencial/\",\n",
    "             \"Butanta\": \"https://www.vivareal.com.br/venda/sp/sao-paulo/zona-oeste/butanta/apartamento_residencial/\",\n",
    "             \"Republica\": \"https://www.vivareal.com.br/venda/sp/sao-paulo/centro/republica/apartamento_residencial/\",\n",
    "             \"Bras\": \"https://www.vivareal.com.br/venda/sp/sao-paulo/zona-leste/bras/apartamento_residencial/\",\n",
    "             \"Fregesia do O\": \"https://www.vivareal.com.br/venda/sp/sao-paulo/zona-norte/freguesia-do-o/apartamento_residencial/\",\n",
    "             \"Higienopolis\": \"https://www.vivareal.com.br/venda/sp/sao-paulo/centro/higienopolis/apartamento_residencial/\",\n",
    "             \"Jardins\": \"https://www.vivareal.com.br/venda/sp/sao-paulo/zona-oeste/jardins/apartamento_residencial/\",\n",
    "             \"Lapa\": \"https://www.vivareal.com.br/venda/sp/sao-paulo/zona-oeste/lapa/apartamento_residencial/\",\n",
    "             \"Moema\": \"https://www.vivareal.com.br/venda/sp/sao-paulo/zona-sul/moema/apartamento_residencial/\", \n",
    "             \"Mooca\": \"https://www.vivareal.com.br/venda/sp/sao-paulo/zona-leste/mooca/apartamento_residencial/\",\n",
    "             \"Morumbi\": \"https://www.vivareal.com.br/venda/sp/sao-paulo/zona-sul/morumbi/apartamento_residencial/\",\n",
    "             \"Pinheiros\": \"https://www.vivareal.com.br/venda/sp/sao-paulo/zona-oeste/pinheiros/apartamento_residencial/\",\n",
    "             \"Santana\": \"https://www.vivareal.com.br/venda/sp/sao-paulo/zona-norte/santana/apartamento_residencial/\",\n",
    "             \"Saude\": \"https://www.vivareal.com.br/venda/sp/sao-paulo/zona-sul/saude/apartamento_residencial/\",\n",
    "             \"Vila Mariana\": \"https://www.vivareal.com.br/venda/sp/sao-paulo/zona-sul/vila-mariana/apartamento_residencial/\",\n",
    "             \"Vila Matilde\": \"https://www.vivareal.com.br/venda/sp/sao-paulo/zona-leste/vila-matilde/apartamento_residencial/\",\n",
    "             \"Campo limpo\": \"https://www.vivareal.com.br/venda/sp/sao-paulo/zona-sul/campo-limpo/apartamento_residencial/\",\n",
    "             \"Tucuruvi\": \"https://www.vivareal.com.br/venda/sp/sao-paulo/zona-norte/tucuruvi/apartamento_residencial/\"}\n",
    "\n",
    "errors = []\n",
    "results = []\n",
    "\n",
    "for bairro, url in urls_dict.items():\n",
    "    current_url = url\n",
    "    driver.get(url)\n",
    "    sleep(2)\n",
    "    actions = ActionChains(driver)\n",
    "\n",
    "    try:\n",
    "        driver.find_element_by_class_name(\"cookie-notifier__cta\").click()\n",
    "    except:\n",
    "            print(\"No cookies!\")\n",
    "    \n",
    "    for i in tqdm(range(30), desc=bairro):\n",
    "        \n",
    "        sleep(5)\n",
    "        main_div = driver.find_element_by_class_name(\"results-main__panel\")\n",
    "        properties = main_div.find_elements_by_class_name(\"js-property-card\")\n",
    "        paginator = driver.find_element_by_class_name(\"js-results-pagination\")\n",
    "        next_page = paginator.find_element_by_xpath('//*[@id=\"js-site-main\"]/div[2]/div[1]/section/div[2]/div[2]/div/ul/li[9]/button')\n",
    "        \n",
    "        for i,apartment in enumerate(properties):\n",
    "            url = apartment.find_element_by_class_name(\"js-card-title\").get_attribute(\"href\")\n",
    "            apto_id = url.split(\"id-\")[-1][:-1]\n",
    "            header = apartment.find_element_by_class_name(\"property-card__title\").text\n",
    "            address = apartment.find_element_by_class_name(\"property-card__address\").text\n",
    "            area = apartment.find_element_by_class_name(\"js-property-card-detail-area\").text\n",
    "            rooms = apartment.find_element_by_class_name(\"js-property-detail-rooms\").text\n",
    "            bathrooms = apartment.find_element_by_class_name(\"js-property-detail-bathroom\").text\n",
    "            garages = apartment.find_element_by_class_name(\"js-property-detail-garages\").text\n",
    "            try:\n",
    "                amenities = apartment.find_element_by_class_name(\"property-card__amenities\").text\n",
    "            except:\n",
    "                amenities = None\n",
    "                errors.append(url)\n",
    "            price = apartment.find_element_by_class_name(\"js-property-card-prices\").text\n",
    "            try:\n",
    "                condo = apartment.find_element_by_class_name(\"js-condo-price\").text\n",
    "            except:\n",
    "                condo = None\n",
    "                errors.append(url)\n",
    "            crawler = bairro\n",
    "            crawled_at = datetime.now().strftime(\"%Y-%m-%d %H:%M\")\n",
    "            results.append({\"id\": apto_id,\n",
    "                            \"url\": url,\n",
    "                            \"header\": header,\n",
    "                            \"address\": address,\n",
    "                            \"area\": area,\n",
    "                            \"rooms\": rooms,\n",
    "                            \"bathrooms\": bathrooms,\n",
    "                            \"garages\": garages,\n",
    "                            \"amenities\": amenities,\n",
    "                            \"price\": price,\n",
    "                            \"condo\": condo,\n",
    "                            \"crawler\": crawler,\n",
    "                            \"crawled_at\": crawled_at})\n",
    "        next_page.click()\n",
    "pd.DataFrame(results).to_csv(\"full_results.csv\", index=False)\n",
    "driver.close()"
   ]
  },
  {
   "cell_type": "code",
   "execution_count": 5,
   "metadata": {},
   "outputs": [
    {
     "name": "stderr",
     "output_type": "stream",
     "text": [
      "[WDM] - ====== WebDriver manager ======\n",
      "[WDM] - Current google-chrome version is 114.0.5735\n",
      "[WDM] - Get LATEST driver version for 114.0.5735\n"
     ]
    },
    {
     "name": "stdout",
     "output_type": "stream",
     "text": [
      "\n",
      "\n"
     ]
    },
    {
     "name": "stderr",
     "output_type": "stream",
     "text": [
      "[WDM] - Driver [/home/thiago-vale/.wdm/drivers/chromedriver/linux64/114.0.5735.90/chromedriver] found in cache\n",
      "Brooklin: 100%|██████████| 30/30 [07:19<00:00, 14.66s/it]\n"
     ]
    }
   ],
   "source": [
    "#!/usr/bin/env python3\n",
    "# -*- coding: utf-8 -*\n",
    "\n",
    "from selenium import webdriver\n",
    "from webdriver_manager.chrome import ChromeDriverManager\n",
    "from selenium.webdriver.common.action_chains import ActionChains\n",
    "from time import sleep\n",
    "import pandas as pd\n",
    "from tqdm import tqdm\n",
    "from datetime import datetime\n",
    "\n",
    "def extract_apartment_data(bairro, url):\n",
    "    driver = webdriver.Chrome(ChromeDriverManager().install()) # Inicializa o driver do Chrome\n",
    "    errors = []  # Lista para armazenar URLs que causaram erros durante a extração\n",
    "    results = []  # Lista para armazenar os resultados extraídos dos apartamentos\n",
    "\n",
    "    current_url = url\n",
    "    driver.get(url) # Abre a URL no navegador\n",
    "    sleep(2)\n",
    "    actions = ActionChains(driver) # Cria uma instância de ActionChains para ações de mouse\n",
    "\n",
    "    try:\n",
    "        driver.find_element_by_class_name(\"cookie-notifier__cta\").click() # Fecha a mensagem de notificação de cookies, se existir\n",
    "    except:\n",
    "        print(\"No cookies!\") # Exibe uma mensagem se não houver mensagem de notificação de cookies\n",
    "\n",
    "    for i in tqdm(range(30), desc=bairro):\n",
    "        sleep(5)\n",
    "        main_div = driver.find_element_by_class_name(\"results-main__panel\") # Encontra a seção principal de resultados\n",
    "        properties = main_div.find_elements_by_class_name(\"js-property-card\") # Encontra os elementos que representam os apartamentos na página\n",
    "        paginator = driver.find_element_by_class_name(\"js-results-pagination\") # Encontra o elemento que contém o paginador\n",
    "        next_page = paginator.find_element_by_xpath('//*[@id=\"js-site-main\"]/div[2]/div[1]/section/div[2]/div[2]/div/ul/li[9]/button') # Encontra o botão \"próxima página\"\n",
    "\n",
    "        for i, apartment in enumerate(properties): # Loop para extrair informações de cada apartamento na página\n",
    "            url = apartment.find_element_by_class_name(\"js-card-title\").get_attribute(\"href\") # Extrai a URL do apartamento\n",
    "            apto_id = url.split(\"id-\")[-1][:-1]  # Extrai o ID do apartamento a partir da URL\n",
    "            header = apartment.find_element_by_class_name(\"property-card__title\").text # Extrai o título do apartamento\n",
    "            address = apartment.find_element_by_class_name(\"property-card__address\").text  # Extrai o endereço do apartamento\n",
    "            area = apartment.find_element_by_class_name(\"js-property-card-detail-area\").text # Extrai a área do apartamento\n",
    "            rooms = apartment.find_element_by_class_name(\"js-property-detail-rooms\").text # Extrai o número de quartos do apartamento\n",
    "            bathrooms = apartment.find_element_by_class_name(\"js-property-detail-bathroom\").text  #Extrai o número de banheiros do apartamento\n",
    "            garages = apartment.find_element_by_class_name(\"js-property-detail-garages\").text # Extrai o número de vagas de garagem do apartamento\n",
    "            try:\n",
    "                amenities = apartment.find_element_by_class_name(\"property-card__amenities\").text # Extrai as comodidades do apartamento, se estiverem disponíveis\n",
    "            except:\n",
    "                amenities = None\n",
    "                errors.append(url)  # Adiciona a URL à lista de erros se ocorrer um erro ao extrair as comodidades\n",
    "            price = apartment.find_element_by_class_name(\"js-property-card-prices\").text # Extrai o preço do apartamento\n",
    "            try:\n",
    "                condo = apartment.find_element_by_class_name(\"js-condo-price\").text # Extrai a taxa do condomínio, se estiver disponível\n",
    "            except:\n",
    "                condo = None\n",
    "                errors.append(url) # Adiciona a URL à lista de erros se ocorrer um erro ao extrair a taxa do condomínio\n",
    "\n",
    "            crawler = bairro # Define o bairro como o nome do crawler\n",
    "            crawled_at = datetime.now().strftime(\"%Y-%m-%d %H:%M\")  # Obtém a data e hora atual formatada\n",
    "\n",
    "            results.append({\"id\": apto_id,\n",
    "                            \"url\": url,\n",
    "                            \"header\": header,\n",
    "                            \"address\": address,\n",
    "                            \"area\": area,\n",
    "                            \"rooms\": rooms,\n",
    "                            \"bathrooms\": bathrooms,\n",
    "                            \"garages\": garages,\n",
    "                            \"amenities\": amenities,\n",
    "                            \"price\": price,\n",
    "                            \"condo\": condo,\n",
    "                            \"crawler\": crawler,\n",
    "                            \"crawled_at\": crawled_at}) # Adiciona um dicionário com as informações do apartamento à lista de resultados\n",
    "        next_page.click()  # Clica no botão \"próxima página\" para avançar para a próxima página de resultados\n",
    "    driver.close() # Fecha o navegador\n",
    "    return results\n",
    "\n",
    "\n",
    "\n",
    "bairro = \"Brooklin\"\n",
    "url = \"https://www.vivareal.com.br/venda/sp/sao-paulo/zona-sul/brooklin/apartamento_residencial/\"\n",
    "results = extract_apartment_data(bairro, url)\n",
    "pd.DataFrame(results).to_csv(\"full_results.csv\", index=False) # Converte a lista de resultados em um DataFrame e salva em um arquivo CSV"
   ]
  },
  {
   "cell_type": "code",
   "execution_count": null,
   "metadata": {},
   "outputs": [],
   "source": []
  }
 ],
 "metadata": {
  "kernelspec": {
   "display_name": "Python 3",
   "language": "python",
   "name": "python3"
  },
  "language_info": {
   "codemirror_mode": {
    "name": "ipython",
    "version": 3
   },
   "file_extension": ".py",
   "mimetype": "text/x-python",
   "name": "python",
   "nbconvert_exporter": "python",
   "pygments_lexer": "ipython3",
   "version": "3.10.6"
  },
  "orig_nbformat": 4
 },
 "nbformat": 4,
 "nbformat_minor": 2
}
